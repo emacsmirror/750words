{
 "cells": [
  {
   "cell_type": "markdown",
   "id": "6c2974f9",
   "metadata": {},
   "source": [
    "# 750words client\n",
    "\n",
    "Allow posting text to 750words.com programmatically."
   ]
  },
  {
   "cell_type": "markdown",
   "id": "5c39d00b",
   "metadata": {},
   "source": [
    "## Install dependencies\n",
    "\n",
    "First, we install the necessary libraries and software"
   ]
  },
  {
   "cell_type": "code",
   "execution_count": 7,
   "id": "a361c69b",
   "metadata": {},
   "outputs": [
    {
     "name": "stdout",
     "output_type": "stream",
     "text": [
      "Requirement already satisfied: selenium in /usr/local/Cellar/jupyterlab/3.0.15_1/libexec/lib/python3.9/site-packages (3.141.0)\r\n",
      "Requirement already satisfied: urllib3 in /usr/local/Cellar/jupyterlab/3.0.15_1/libexec/lib/python3.9/site-packages (from selenium) (1.26.4)\r\n"
     ]
    }
   ],
   "source": [
    "# Install a pip package in the current Jupyter kernel\n",
    "import sys\n",
    "#!{sys.executable} -m pip install selenium"
   ]
  },
  {
   "cell_type": "code",
   "execution_count": 11,
   "id": "10c74420",
   "metadata": {},
   "outputs": [
    {
     "name": "stdout",
     "output_type": "stream",
     "text": [
      "\u001b[33mWarning:\u001b[0m Cask 'google-chrome' is already installed.\r\n",
      "\r\n",
      "To re-install google-chrome, run:\r\n",
      "  \u001b[32mbrew reinstall google-chrome\u001b[39m\r\n",
      "\u001b[33mWarning:\u001b[0m Cask 'chromedriver' is already installed.\r\n",
      "\r\n",
      "To re-install chromedriver, run:\r\n",
      "  \u001b[32mbrew reinstall chromedriver\u001b[39m\r\n"
     ]
    }
   ],
   "source": [
    "#!brew install google-chrome chromedriver"
   ]
  },
  {
   "cell_type": "markdown",
   "id": "edeec5a1",
   "metadata": {},
   "source": [
    "## Read text from stdin"
   ]
  },
  {
   "cell_type": "code",
   "execution_count": null,
   "id": "e9a00260",
   "metadata": {},
   "outputs": [],
   "source": [
    "text = \"\"\n",
    "for line in sys.stdin:\n",
    "    text = text + line"
   ]
  },
  {
   "cell_type": "markdown",
   "id": "9efbad71",
   "metadata": {},
   "source": [
    "## Start up Chrome using Selenium and connect to 750words.com"
   ]
  },
  {
   "cell_type": "code",
   "execution_count": 27,
   "id": "5052be14",
   "metadata": {},
   "outputs": [],
   "source": [
    "from selenium import webdriver\n",
    "from selenium.webdriver.chrome.options import Options\n",
    "from selenium.webdriver.common.action_chains import ActionChains\n",
    "from selenium.webdriver.common.keys import Keys"
   ]
  },
  {
   "cell_type": "code",
   "execution_count": 16,
   "id": "514c480c",
   "metadata": {},
   "outputs": [],
   "source": [
    "#taken from https://www.intricatecloud.io/2019/05/running-webdriverio-tests-using-headless-chrome-inside-a-container/\n",
    "opts = Options()\n",
    "opts.add_argument(\"--window-size=1200,800\")\n",
    "#opts.add_argument(\"--headless\")\n",
    "opts.add_argument(\"--no-sandbox\")\n",
    "opts.add_argument(\"--disable-gpu\")\n",
    "opts.add_argument(\"--verbose\")\n",
    "opts.add_argument(\"--disable-setuid-sandbox\")\n",
    "opts.add_argument(\"--disable-dev-shm-usage\")\n",
    "opts.add_argument(\"--disable-infobars\")\n",
    "\n",
    "#opts.add_argument(\"user-agent=\" + ua_list[4])\n",
    "driver = webdriver.Chrome(options=opts)"
   ]
  },
  {
   "cell_type": "code",
   "execution_count": 17,
   "id": "fb95a83c",
   "metadata": {},
   "outputs": [
    {
     "name": "stdout",
     "output_type": "stream",
     "text": [
      "https://750words.com/auth\n",
      "----------------------------------------------\n",
      "Sign up or log in to 750 Words\n"
     ]
    }
   ],
   "source": [
    "driver.get('https://750words.com/auth')\n",
    "# Get current url\n",
    "print(driver.current_url)\n",
    "\n",
    "print('----------------------------------------------')\n",
    "\n",
    "# Gets the page's title\n",
    "print(driver.title)\n"
   ]
  },
  {
   "cell_type": "markdown",
   "id": "6220ed7a",
   "metadata": {},
   "source": [
    "## Authenticate"
   ]
  },
  {
   "cell_type": "code",
   "execution_count": 20,
   "id": "fee0a94e",
   "metadata": {},
   "outputs": [],
   "source": [
    "login_form = driver.find_element_by_id('signin_form')\n",
    "if login_form:\n",
    "    user = driver.find_element_by_id('person_email_address')\n",
    "    password = driver.find_element_by_id('person_password')\n",
    "    user.send_keys('diego@zzamboni.org')\n",
    "    password.send_keys('xxxxxxxxxxxxxx')\n",
    "    driver.find_element_by_name('commit').click()\n",
    "else:\n",
    "    raise BaseException(\"Could not find login form in https://750words.com/auth\")"
   ]
  },
  {
   "cell_type": "markdown",
   "id": "de93f98c",
   "metadata": {},
   "source": [
    "## Enter text"
   ]
  },
  {
   "cell_type": "code",
   "execution_count": 28,
   "id": "5070ddfe",
   "metadata": {},
   "outputs": [],
   "source": [
    "entry_text = driver.find_element_by_id('entry_body')\n",
    "entry_text.send_keys(\"text\")\n",
    "ActionChains(driver).key_down(Keys.COMMAND).send_keys('s').key_up(Keys.COMMAND).perform()"
   ]
  },
  {
   "cell_type": "markdown",
   "id": "c1f3e68d",
   "metadata": {},
   "source": [
    "## Finish"
   ]
  },
  {
   "cell_type": "code",
   "execution_count": 29,
   "id": "f78a237d",
   "metadata": {},
   "outputs": [],
   "source": [
    "driver.quit()"
   ]
  }
 ],
 "metadata": {
  "kernelspec": {
   "display_name": "Python 3",
   "language": "python",
   "name": "python3"
  },
  "language_info": {
   "codemirror_mode": {
    "name": "ipython",
    "version": 3
   },
   "file_extension": ".py",
   "mimetype": "text/x-python",
   "name": "python",
   "nbconvert_exporter": "python",
   "pygments_lexer": "ipython3",
   "version": "3.9.5"
  }
 },
 "nbformat": 4,
 "nbformat_minor": 5
}
